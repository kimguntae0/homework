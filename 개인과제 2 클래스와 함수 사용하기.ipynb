{
 "cells": [
  {
   "cell_type": "code",
   "execution_count": 20,
   "id": "b0daa5da-c944-4ade-8153-60edc3b850b6",
   "metadata": {},
   "outputs": [],
   "source": [
    "class Person :\n",
    "\n",
    "    def __init__(self, age, name, gender): \n",
    "        self.age = age\n",
    "        self.name = name\n",
    "        self.gender = gender\n",
    "        \n",
    "    def display(self):\n",
    "        print('=' *30)\n",
    "        self.gender = '여자' if self.gender == 'female' else '남자'\n",
    "        print('이름: %s, 성별 : %s' %(self.name, self.gender))\n",
    "        print('나이 : %d' %self.age)\n",
    "        print('='*30)"
   ]
  },
  {
   "cell_type": "code",
   "execution_count": 8,
   "id": "c507e743-839f-40e2-a42f-4cf90c5942f7",
   "metadata": {},
   "outputs": [
    {
     "name": "stdin",
     "output_type": "stream",
     "text": [
      "이름: 김건태\n"
     ]
    }
   ],
   "source": [
    "name = input('이름:')"
   ]
  },
  {
   "cell_type": "code",
   "execution_count": 10,
   "id": "cddc61dc-1fdb-42b1-b07d-ad9dde2fa8cc",
   "metadata": {},
   "outputs": [
    {
     "name": "stdin",
     "output_type": "stream",
     "text": [
      "나이: 31\n"
     ]
    }
   ],
   "source": [
    "age = int(input('나이:'))"
   ]
  },
  {
   "cell_type": "code",
   "execution_count": 12,
   "id": "12bb2ede-bb29-408b-8145-9eab7b8b80ae",
   "metadata": {},
   "outputs": [
    {
     "name": "stdin",
     "output_type": "stream",
     "text": [
      "성별(male/female): male\n"
     ]
    }
   ],
   "source": [
    "gender = input('성별(male/female):')"
   ]
  },
  {
   "cell_type": "code",
   "execution_count": 14,
   "id": "284f9145-79d5-44a6-9e04-9108b9c2e56a",
   "metadata": {},
   "outputs": [],
   "source": [
    "p = Person(age,name,gender)"
   ]
  },
  {
   "cell_type": "code",
   "execution_count": 24,
   "id": "e59a164c-28a6-419d-b49e-3b0ee6a0bbfe",
   "metadata": {},
   "outputs": [
    {
     "name": "stdout",
     "output_type": "stream",
     "text": [
      "==============================\n",
      "이름: 김건태, 성별 : 남자\n",
      "나이 : 31\n",
      "==============================\n"
     ]
    }
   ],
   "source": [
    "p.display()"
   ]
  },
  {
   "cell_type": "code",
   "execution_count": null,
   "id": "f3d745d3-c370-412c-9b04-c07f28cb3a27",
   "metadata": {},
   "outputs": [],
   "source": []
  }
 ],
 "metadata": {
  "kernelspec": {
   "display_name": "Python 3 (ipykernel)",
   "language": "python",
   "name": "python3"
  },
  "language_info": {
   "codemirror_mode": {
    "name": "ipython",
    "version": 3
   },
   "file_extension": ".py",
   "mimetype": "text/x-python",
   "name": "python",
   "nbconvert_exporter": "python",
   "pygments_lexer": "ipython3",
   "version": "3.12.4"
  }
 },
 "nbformat": 4,
 "nbformat_minor": 5
}
